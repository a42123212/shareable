{
 "cells": [
  {
   "cell_type": "code",
   "execution_count": 3,
   "id": "d161b34b",
   "metadata": {},
   "outputs": [],
   "source": [
    "import leafmap.leafmap as leafmap"
   ]
  },
  {
   "cell_type": "code",
   "execution_count": 13,
   "id": "ec63af18",
   "metadata": {},
   "outputs": [
    {
     "data": {
      "application/vnd.jupyter.widget-view+json": {
       "model_id": "620a855c12024a91a8d92c4718a86a5b",
       "version_major": 2,
       "version_minor": 0
      },
      "text/plain": [
       "Map(center=[22.7474, 120.7254], controls=(ZoomControl(options=['position', 'zoom_in_text', 'zoom_in_title', 'z…"
      ]
     },
     "metadata": {},
     "output_type": "display_data"
    }
   ],
   "source": [
    "m = leafmap.Map(basemap=\"Google Satellite\",height=\"450px\", width=\"800px\")\n",
    "#m.add_basemap()\n",
    "#m.add_raster(\"cut_dem20m_wgs84_ailiao.tif\",cmap=\"terrain\", layer_name=\"DEM\")\n",
    "m.add_raster(\"cut_2015_ailiao.tif\",cmap=\"Reds_r\", layer_name=\"landslides\", nodata=0, zoom_to_layer=True)\n",
    "m.set_center(120.7254,22.7474, zoom=11)\n",
    "m.split_map( right_layer=\"Google Satellite\",\n",
    "              left_label=\"Landslide\", \n",
    "              right_label=\"landscope\")\n",
    "m"
   ]
  },
  {
   "cell_type": "code",
   "execution_count": null,
   "id": "63a4510c",
   "metadata": {},
   "outputs": [],
   "source": []
  },
  {
   "cell_type": "code",
   "execution_count": null,
   "id": "e442c1ff",
   "metadata": {},
   "outputs": [],
   "source": []
  }
 ],
 "metadata": {
  "kernelspec": {
   "display_name": "default",
   "language": "python",
   "name": "python3"
  },
  "language_info": {
   "codemirror_mode": {
    "name": "ipython",
    "version": 3
   },
   "file_extension": ".py",
   "mimetype": "text/x-python",
   "name": "python",
   "nbconvert_exporter": "python",
   "pygments_lexer": "ipython3",
   "version": "3.12.10"
  }
 },
 "nbformat": 4,
 "nbformat_minor": 5
}
